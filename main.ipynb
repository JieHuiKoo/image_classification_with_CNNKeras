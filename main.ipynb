{
 "cells": [
  {
   "cell_type": "code",
   "execution_count": 1,
   "metadata": {},
   "outputs": [
    {
     "name": "stderr",
     "output_type": "stream",
     "text": [
      "2023-01-18 18:06:25.899108: I tensorflow/core/platform/cpu_feature_guard.cc:193] This TensorFlow binary is optimized with oneAPI Deep Neural Network Library (oneDNN) to use the following CPU instructions in performance-critical operations:  AVX2 FMA\n",
      "To enable them in other operations, rebuild TensorFlow with the appropriate compiler flags.\n",
      "2023-01-18 18:06:26.028161: W tensorflow/compiler/xla/stream_executor/platform/default/dso_loader.cc:64] Could not load dynamic library 'libcudart.so.11.0'; dlerror: libcudart.so.11.0: cannot open shared object file: No such file or directory; LD_LIBRARY_PATH: /home/jiehui/test_ws/devel/lib:/opt/ros/melodic/lib\n",
      "2023-01-18 18:06:26.028181: I tensorflow/compiler/xla/stream_executor/cuda/cudart_stub.cc:29] Ignore above cudart dlerror if you do not have a GPU set up on your machine.\n",
      "2023-01-18 18:06:26.709483: W tensorflow/compiler/xla/stream_executor/platform/default/dso_loader.cc:64] Could not load dynamic library 'libnvinfer.so.7'; dlerror: libnvinfer.so.7: cannot open shared object file: No such file or directory; LD_LIBRARY_PATH: /home/jiehui/test_ws/devel/lib:/opt/ros/melodic/lib\n",
      "2023-01-18 18:06:26.709539: W tensorflow/compiler/xla/stream_executor/platform/default/dso_loader.cc:64] Could not load dynamic library 'libnvinfer_plugin.so.7'; dlerror: libnvinfer_plugin.so.7: cannot open shared object file: No such file or directory; LD_LIBRARY_PATH: /home/jiehui/test_ws/devel/lib:/opt/ros/melodic/lib\n",
      "2023-01-18 18:06:26.709545: W tensorflow/compiler/tf2tensorrt/utils/py_utils.cc:38] TF-TRT Warning: Cannot dlopen some TensorRT libraries. If you would like to use Nvidia GPU with TensorRT, please make sure the missing libraries mentioned above are installed properly.\n"
     ]
    }
   ],
   "source": [
    "import tensorflow as tf\n",
    "from tensorflow import keras\n",
    "from tensorflow.keras import layers\n",
    "\n",
    "import sklearn\n",
    "from sklearn.model_selection import train_test_split\n",
    "from tensorflow.keras.utils import load_img\n",
    "\n",
    "\n",
    "from matplotlib import pyplot as plt\n",
    "\n",
    "import pandas as pd\n",
    "import numpy as np\n",
    "import sys\n",
    "import os\n",
    "\n",
    "from IPython.display import display, clear_output"
   ]
  },
  {
   "cell_type": "markdown",
   "metadata": {},
   "source": [
    "# Get the data and store the directories in dataframe"
   ]
  },
  {
   "cell_type": "code",
   "execution_count": 2,
   "metadata": {},
   "outputs": [],
   "source": [
    "def plot_data_distribution(file_directory_df, additional_text):\n",
    "    plt.bar(file_directory_df['class'].value_counts().index, file_directory_df['class'].value_counts())\n",
    "    plt.title(\"Data Distribution\" + \" (\" + additional_text + \")\")\n"
   ]
  },
  {
   "cell_type": "code",
   "execution_count": 3,
   "metadata": {},
   "outputs": [],
   "source": [
    "def get_data_file_directories(data_directory):\n",
    "    file_directory_dict = {\n",
    "    \"class\":[],\n",
    "    \"directory\":[]\n",
    "    }\n",
    "\n",
    "    for root, dirs, files in os.walk(data_directory, topdown=False):\n",
    "        for name in files:\n",
    "            file_directory_dict['class'].append(root.split(\"/\")[-1])\n",
    "            file_directory_dict['directory'].append(os.path.join(root, name))\n",
    "\n",
    "    file_directory_df = pd.DataFrame(file_directory_dict)\n",
    "\n",
    "    return file_directory_df"
   ]
  },
  {
   "cell_type": "code",
   "execution_count": 4,
   "metadata": {},
   "outputs": [],
   "source": [
    "def get_num_of_augmentation_for_each_class(file_directory_df, num_of_images_for_each_class):\n",
    "    num_of_augmentation_for_each_class = {}\n",
    "    for object_class in file_directory_df['class'].unique():\n",
    "        num_of_images_for_class = len(file_directory_df.loc[file_directory_df['class'] == object_class])\n",
    "        num_of_augmentation_for_each_class[object_class] = num_of_images_for_each_class // num_of_images_for_class\n",
    "\n",
    "    return num_of_augmentation_for_each_class"
   ]
  },
  {
   "cell_type": "code",
   "execution_count": 5,
   "metadata": {},
   "outputs": [],
   "source": [
    "def generate_augmentations_for_each_class(num_of_augmentation_for_each_class, file_directory_df):\n",
    "    # Create the augmentation generator\n",
    "    datagen = tf.keras.preprocessing.image.ImageDataGenerator(\n",
    "        shear_range=0.2,\n",
    "        horizontal_flip=True,\n",
    "        rotation_range=40, fill_mode='nearest',\n",
    "        channel_shift_range = 10,\n",
    "        zoom_range=0.1,\n",
    "        )\n",
    "    \n",
    "    # Augmented Training Data Folder\n",
    "    directory_path = file_directory_df['directory'][0].rsplit('/', 3)[0] + '/augmented_training_data'\n",
    "    \n",
    "    # Augmented Training Data Folder for each class\n",
    "    directory_path_for_each_class = {}\n",
    "    # For each class\n",
    "    for object_class in num_of_augmentation_for_each_class.keys():\n",
    "        \n",
    "        # Create the folder path and add to dictionary\n",
    "        object_directory_path = directory_path + '/' + object_class\n",
    "        directory_path_for_each_class[object_class] = object_directory_path\n",
    "        \n",
    "        # If folder not created, create it\n",
    "        if not (os.path.exists(object_directory_path)):\n",
    "            os.makedirs(object_directory_path)\n",
    "\n",
    "    row_num = 0\n",
    "    # For each picture in the training data, generate the augmentations\n",
    "    for index, row in file_directory_df.iterrows():\n",
    "        \n",
    "        object_class = row['class']\n",
    "        object_filepath = row['directory']\n",
    "\n",
    "        original_image = plt.imread(object_filepath)\n",
    "        expanded_image = np.expand_dims(original_image, 0)\n",
    "\n",
    "        datagen.fit(expanded_image)\n",
    "        for i in zip(datagen.flow(expanded_image,                    #image we chose\n",
    "                save_to_dir=directory_path_for_each_class[object_class],     #this is where we figure out where to save\n",
    "                save_prefix='aug',              # it will save the images as 'aug_0912' some number for every new augmented image\n",
    "                save_format='png', batch_size=10), range(num_of_augmentation_for_each_class[object_class])) :     # here we define a range because we want 10 augmented images otherwise it will keep looping forever I think\n",
    "                pass\n",
    "        \n",
    "        row_num += 1\n",
    "        clear_output(wait=True)\n",
    "        print(\"Augmenting: \" + str(row_num) + \" of \" + str(len(file_directory_df)))"
   ]
  },
  {
   "cell_type": "code",
   "execution_count": 6,
   "metadata": {},
   "outputs": [
    {
     "data": {
      "image/png": "[encoded data removed]",
      "text/plain": [
       "<Figure size 640x480 with 1 Axes>"
      ]
     },
     "metadata": {},
     "output_type": "display_data"
    }
   ],
   "source": [
    "cwd = os.getcwd()\n",
    "data_directory = cwd+\"/training_data\"\n",
    "\n",
    "original_training_data_file_directory_df = get_data_file_directories(data_directory)\n",
    "plot_data_distribution(original_training_data_file_directory_df, \"Original\")"
   ]
  },
  {
   "cell_type": "code",
   "execution_count": 7,
   "metadata": {},
   "outputs": [
    {
     "name": "stdout",
     "output_type": "stream",
     "text": [
      "Augmenting: 315 of 315\n"
     ]
    }
   ],
   "source": [
    "num_augmentations = 10\n",
    "class_with_highest_num = original_training_data_file_directory_df['class'].value_counts().index[0]\n",
    "num_of_images_for_each_class = len(original_training_data_file_directory_df.loc[original_training_data_file_directory_df['class'] == class_with_highest_num]) * num_augmentations\n",
    "num_of_augmentation_for_each_class = get_num_of_augmentation_for_each_class(original_training_data_file_directory_df, num_of_images_for_each_class)\n",
    "generate_augmentations_for_each_class(num_of_augmentation_for_each_class, original_training_data_file_directory_df)"
   ]
  },
  {
   "cell_type": "code",
   "execution_count": 8,
   "metadata": {},
   "outputs": [
    {
     "data": {
      "image/png": "[encoded data removed]",
      "text/plain": [
       "<Figure size 640x480 with 1 Axes>"
      ]
     },
     "metadata": {},
     "output_type": "display_data"
    }
   ],
   "source": [
    "augmented_data_directory = cwd+\"/augmented_training_data\"\n",
    "augmented_training_data_file_directory_df = get_data_file_directories(augmented_data_directory)\n",
    "plot_data_distribution(augmented_training_data_file_directory_df, \"augmented\")"
   ]
  },
  {
   "cell_type": "code",
   "execution_count": null,
   "metadata": {},
   "outputs": [],
   "source": []
  }
 ],
 "metadata": {
  "kernelspec": {
   "display_name": "image_classification_cnn",
   "language": "python",
   "name": "python3"
  },
  "language_info": {
   "codemirror_mode": {
    "name": "ipython",
    "version": 3
   },
   "file_extension": ".py",
   "mimetype": "text/x-python",
   "name": "python",
   "nbconvert_exporter": "python",
   "pygments_lexer": "ipython3",
   "version": "3.9.13"
  },
  "orig_nbformat": 4,
  "vscode": {
   "interpreter": {
    "hash": "671bcd9fdf0ad12f8a4e18d9bdc20b77395468c8e9a2397b326069ce7efeab7b"
   }
  }
 },
 "nbformat": 4,
 "nbformat_minor": 2
}
